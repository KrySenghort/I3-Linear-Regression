{
 "cells": [
  {
   "cell_type": "markdown",
   "metadata": {},
   "source": [
    "Question Bank\n",
    "\n",
    "Linear Regression\n",
    "- 1.) What is linear regression and what are its assumptions?\n",
    "- 2.) Explain the difference between simple linear regression and multiple linear regression.\n",
    "- 3.) What is the purpose of the coefficient of determination (R-squared) in linear regression?\n",
    "- 4.) How do you interpret the slope and intercept coefficients in linear regression?\n",
    "- 5.) What is the difference between correlation and regression?\n",
    "- 6.) What is the difference between ordinary least squares (OLS) and gradient descent in linear regression?\n",
    "- 7.) How do you detect outliers in a linear regression model?\n",
    "- 8.) What is multicollinearity and how does it affect linear regression?\n",
    "- 9.) Explain the difference between the training set and the test set in linear regression.\n",
    "- 10.) What is regularization and how does it help to prevent overfitting in linear regression?\n",
    "\n",
    "Logistic Regression\n",
    "\n",
    "- 1.) What is logistic regression and how is it different from linear regression?\n",
    "- 2.) Explain the sigmoid function and how it is used in logistic regression.\n",
    "- 3.) What is the purpose of the odds ratio in logistic regression?\n",
    "- 4.) How do you interpret the coefficients in a logistic regression model?\n",
    "- 5.) What are the assumptions of logistic regression and how do you check them?\n",
    "- 6.) What is the difference between binary logistic regression and multinomial logistic regression?\n",
    "- 7.) What is overfitting in logistic regression and how can it be prevented?\n",
    "- 8.) How do you evaluate the performance of a logistic regression model?\n",
    "- 9.) What is regularization and how does it help to prevent overfitting in logistic regression?\n",
    "\n",
    "In linear regression problems, we can always determine the appropriateness of R-squared as a summary by examining the summary graph of the response versus the regressor. The figure below shows the six summary graphs. \n",
    "\n",
    "- a.) Which graphs are showing R-squared is an appropriate measure? \n",
    "- b.) Which graphs are showing R-squared is not an appropriate measure and why? What would you recommend to do after seeing these graphs? \n",
    "- a.) Based on the figure 5.2 below, is there a sign of interaction effect between log(ppgdp) and group on female life expectancy and why? \n",
    "- b.) Suppose you are building a linear model for modeling female life expectancy and obtain a model below. \n",
    "\n",
    "Assume that all assumptions of linear model are satisfied and you obtained a summary table for a model below: \n",
    "\n",
    "\n",
    "i.) Give an interpretation of 1=1.5544, 03=-22.9848 and 13=0.7590. \n",
    "ii.) What conclusion(s) can you make from the table. \n",
    "\n",
    " Based on the plot below. What assumption of linear regression is violated? \n",
    "\n",
    "Blowdown: Data from the Boundary Waters Canoe Area Wilderness Blowdown. The data frame Blowdown includes nine species of trees, but this file only includes black spruce, grouped by diameter. \n",
    "y: status of a tree after blowdown. 1: death and 0: survive \n",
    "d: tree diameter, in cm\n",
    "s: local severity of the storm (as the fraction of the total basal area of trees)\n",
    "You perform a logistic model to model the probability of death by the blowdown for a tree using logit link and obtain the summary table below: \n",
    "\n",
    "Model: y ~ log(d) + s + log(d):s\n",
    "\n",
    "a.) Give an interpretation of coefficient estimate of log(d), 1=0.578. \n",
    "b.) What conclusion(s) can you make from the table. \n",
    "\n",
    "\n",
    "\n"
   ]
  },
  {
   "cell_type": "markdown",
   "metadata": {},
   "source": []
  }
 ],
 "metadata": {
  "language_info": {
   "name": "python"
  },
  "orig_nbformat": 4
 },
 "nbformat": 4,
 "nbformat_minor": 2
}
